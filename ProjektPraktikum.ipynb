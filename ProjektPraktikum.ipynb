{
 "cells": [
  {
   "cell_type": "markdown",
   "id": "74d498b6-53b3-4c33-a50f-3df61454dd40",
   "metadata": {},
   "source": [
    "<h1 align=\"center\"><font color='green'>Project Practice. Elina Kantseva. August 2024</font></h1>"
   ]
  },
  {
   "cell_type": "markdown",
   "id": "9c384b02-5052-4d6d-a680-55a44e459d96",
   "metadata": {},
   "source": [
    "<a class=\"anchor\" id=\"toc\"></a>\n",
    "### <font color='289C4E'>Table of Contents<font><a class='anchor' id='top'></a>\n",
    "- [__Part 1. Decay Constants: calculationg and comparesment__](#0)\n",
    "- [Introduction](#1)\n",
    "- [Theoretical Basis](#2)\n",
    "- [Evaluation: Dataset 1](#3)\n",
    "    - [Reading in the Data](#3.1)\n",
    "    - [Full and sliced Data](#3.2)\n",
    "    - [Implementing the filter](#3.3)\n",
    "    - [Smoothing the data](#3.4)\n",
    "    - [Comparesment of data smoothing algorithms](#3.5)\n",
    "    - [Implementing of data smoothing algorithms](#3.6)\n",
    "    - [Fitting](#3.7)\n",
    "    - [Inverting the Function and Fitting again](#3.8)\n",
    "    \n",
    "__before evaluating Datasets 2,3,4 and the Part 2 of this Notebook the Dataset 1 section of this notebook should be run, because it defines important functions__ \n",
    "    \n",
    "- [Evaluation: Dataset 2](#4)\n",
    "- [Evaluation: Dataset 3](#5)\n",
    "- [Evaluation: Dataset 4](#6)\n",
    "- [Results for Decay Constants $K$](#7)\n",
    "- [__Part 2. Friction velocity: qualitative calculationg__ ](#8)\n",
    "    - [Introduction](#8.1)\n",
    "    - [Theoretical Basis](#8.2)\n",
    "    - [Evaluation: Dataset 1](#8.3)\n",
    "    - [Results for the friction velocity $u*_w$](#8.4)"
   ]
  },
  {
   "cell_type": "markdown",
   "id": "12596125-0e21-4ee3-8883-842fe704bdef",
   "metadata": {},
   "source": [
    "<a class=\"anchor\" id=\"0\"></a>\n",
    "\n",
    "<div style=\"display: flex; justify-content: space-between; align-items: center;\">\n",
    "    \n",
    "    <h1 style=\"margin: 0; text-align: center; width: 100%\">\n",
    "        <font color='black'>Part 1. Decay Constants: calculationg and comparesment</font>\n",
    "    </h1>\n",
    "    <a href=\"#toc\" style=\"text-decoration: none; font-size: 20px; margin-left: 10px;\">&#x21A9;</a>\n",
    "    \n",
    "</div>"
   ]
  },
  {
   "cell_type": "markdown",
   "id": "fc294175-433b-46f3-95da-c6b35a94bf97",
   "metadata": {},
   "source": [
    "<a class=\"anchor\" id=\"1\"></a>\n",
    "\n",
    "<div style=\"display: flex; justify-content: space-between; align-items: center;\">\n",
    "    \n",
    "    <h1 style=\"margin: 0; text-align: center; width: 100%\">\n",
    "        <font color='green'>Introduction</font>\n",
    "    </h1>\n",
    "    <a href=\"#toc\" style=\"text-decoration: none; font-size: 20px; margin-left: 10px;\">&#x21A9;</a>\n",
    "    \n",
    "</div>"
   ]
  },
  {
   "cell_type": "markdown",
   "id": "3cd0aa30-25a6-43a5-9547-cbec8c804c41",
   "metadata": {},
   "source": [
    "This Jupyter Notebook is based on the code by Kerstin Krall and the Bachelor's thesis (2011) by Maximilian Bopp. The measurements were conducted at different times in the wind-wave channel \"Aeolotron\" in Heidelberg.  __<font color='green'>The goal</font>__ of the internship was to obtain the decay coefficients \\(K\\) from various datasets (without surface film, with soluble and insoluble films) and to compare them with the values from M. Bopp's work."
   ]
  },
  {
   "cell_type": "markdown",
   "id": "b15a7c64-d5e7-4011-80fc-e2132704cf89",
   "metadata": {},
   "source": [
    "<a class=\"anchor\" id=\"2\"></a>\n",
    "\n",
    "<div style=\"display: flex; justify-content: space-between; align-items: center;\">\n",
    "    \n",
    "    <h1 style=\"margin: 0; text-align: center; width: 100%\">\n",
    "        <font color='green'>Theoretical Basis</font>\n",
    "    </h1>\n",
    "    <a href=\"#toc\" style=\"text-decoration: none; font-size: 20px; margin-left: 10px;\">&#x21A9;</a>\n",
    "    \n",
    "</div>"
   ]
  },
  {
   "cell_type": "markdown",
   "id": "e3136be4-43ce-4a91-942e-ba1176297405",
   "metadata": {},
   "source": [
    "As mentioned in the work of M. Bopp, the water behavior in the channel is described by the force balance:\n",
    "\n",
    "\\begin{align}\n",
    "\\frac{dp}{dt}= F_{wind} - \\sum F_{wände} - F_{reibung}\n",
    "\\end{align}\n",
    "\n",
    "The left side of the equation can be written as the following expression:\n",
    "\n",
    "\\begin{align}\n",
    "\\frac{dp}{dt} = m \\frac{du}{dt} = V \\rho \\frac{du}{dt}\n",
    "\\end{align}\n",
    "\n",
    "As for the right side, for a general force acting on the water body with the surface area \\( A \\), the following applies:\n",
    "\n",
    "\\begin{align}\n",
    "F = A \\tau_{xz} = A \\rho {u_{\\ast}}^2\n",
    "\\end{align}\n",
    "\n",
    "It's true that $u_{\\ast} = C u$ (C = a constant), therefor it follows:\n",
    "\n",
    "\\begin{align}\n",
    "F = A \\tau_{xz} = A \\rho {u_{\\ast}}^2 = A \\rho C^2 u^2\n",
    "\\end{align}\n",
    "\n",
    "For a frictional force exerted by the immersed body on the water, the following applies:\n",
    "\n",
    "\\begin{align}\n",
    "F_R = \\frac{1}{2}c_w \\rho F u^2\n",
    "\\end{align}\n",
    "\n",
    "Here, $ F $ is the cross-sectional area, and $ c_w $ is the drag coefficient.\n",
    "\n",
    "After the wind is turned off, $ F_{wind} $ disappears. Thus, the force balance can be simplified as follows:\n",
    "\n",
    "\\begin{align}\n",
    "V \\rho \\frac{du}{dt} =  - \\sum A \\rho {C^2} u^2 - \\frac{1}{2}c_w \\rho F u^2 = - K u^2\n",
    "\\end{align}\n",
    "\n",
    "It follows that:\n",
    "\n",
    "\\begin{align}\n",
    "\\int_{u(0)}^{u(t)} \\frac{du'}{u'}^2 = - \\int_0^t K dt'\n",
    "\\end{align}\n",
    "\n",
    "\\begin{align}\n",
    "\\rightarrow \\frac{1}{u(t)} = \\frac{1}{u(0)} + Kt\n",
    "\\end{align}\n",
    "\n",
    "\\begin{align}\n",
    "\\rightarrow {u(t)} = \\frac{u(0)}{1 + u(0)Kt}\n",
    "\\end{align}"
   ]
  },
  {
   "cell_type": "code",
   "execution_count": 1,
   "id": "66e981c6-f266-46f7-85b5-edeb9f5ebaf0",
   "metadata": {},
   "outputs": [],
   "source": [
    "import numpy as np\n",
    "#import cv2\n",
    "import matplotlib.pyplot as plt\n",
    "import os\n",
    "from scipy.interpolate import CubicSpline\n",
    "import matplotlib\n",
    "from scipy.signal import savgol_filter\n",
    "from scipy.optimize import curve_fit\n",
    "\n",
    "import datetime as datetime\n",
    "from datetime import datetime as dt"
   ]
  },
  {
   "cell_type": "code",
   "execution_count": 2,
   "id": "480ac91d-8b26-4efd-b080-3ee0aa6744c6",
   "metadata": {},
   "outputs": [],
   "source": [
    "params = {'mathtext.default': 'regular' }          \n",
    "plt.rcParams.update(params)\n",
    "\n",
    "\n",
    "# ein paar Einstellungen zur Schriftart:\n",
    "font = {'family' : 'DejaVu Sans',\n",
    "        'weight' : 'normal',\n",
    "        'size'   : 12}\n",
    "#updaten der matplotlib \n",
    "matplotlib.rc('font', **font)\n",
    "\n",
    "ZFZF = lambda x,pos: str(round(x,7)).rstrip('0').rstrip('.')\n",
    "\n",
    "#%% colors\n",
    "indigo='#332288'\n",
    "cyan='#33bbee'\n",
    "teal='#22aa88'\n",
    "green='#117733'\n",
    "olive='#999933'\n",
    "sand='#eedd77'\n",
    "rose='#DD6677'\n",
    "wine='#882255'\n",
    "purple='#aa4499'\n",
    "blue='#0077bb'\n",
    "orange='#ee7733'\n",
    "red='#cc3311'\n",
    "magenta='#ee3377'\n",
    "gray='#AAAAAA'\n",
    "\n",
    "teal2='#009988'\n",
    "\n",
    "#%%"
   ]
  },
  {
   "cell_type": "code",
   "execution_count": 3,
   "id": "ece03660-d977-4d4b-bf2c-1d5665d46f51",
   "metadata": {},
   "outputs": [],
   "source": [
    "#%%\n",
    "def concatenate_files(file1_path, file2_path, output_file_path):\n",
    "    # Read the contents of the first file\n",
    "    with open(file1_path, 'r') as file1:\n",
    "        content1 = file1.read()\n",
    "\n",
    "    # Read the contents of the second file\n",
    "    with open(file2_path, 'r') as file2:\n",
    "        content2 = file2.read()\n",
    "\n",
    "    # Concatenate the contents\n",
    "    combined_content = content1 + content2\n",
    "\n",
    "    # Write the combined content to the output file\n",
    "    with open(output_file_path, 'w') as output_file:\n",
    "        output_file.write(combined_content)\n",
    "        \n",
    "        \n",
    "def replace_commas_with_space_in_place(file_path):\n",
    "    # Read the content of the file\n",
    "    with open(file_path, 'r') as file:\n",
    "        content = file.read()\n",
    "\n",
    "    # Replace commas with spaces\n",
    "    modified_content = content.replace(',', ' ')\n",
    "\n",
    "    # Write the modified content back to the file\n",
    "    with open(file_path, 'w') as file:\n",
    "        file.write(modified_content)\n",
    "#%%   \n",
    "\n",
    "def find_position(listt, bound):\n",
    "    c = -1\n",
    "    for count, value in enumerate(listt):\n",
    "        if value >= bound:\n",
    "            c = count\n",
    "            break\n",
    "    return c\n",
    "\n",
    "def filter(listX, listY):\n",
    "    last = listY[0]\n",
    "    for i, j in enumerate(listY):\n",
    "        if (j > last*1.7):\n",
    "            listY.pop(i)\n",
    "            listX.pop(i)\n",
    "        try: last = listY[i]\n",
    "        except: last = listY[i-1]\n",
    "    return (listX, listY)\n"
   ]
  },
  {
   "cell_type": "markdown",
   "id": "91d14305-b143-4f50-9f86-edfe6bb118ea",
   "metadata": {},
   "source": [
    "<a class=\"anchor\" id=\"3\"></a>\n",
    "\n",
    "<div style=\"display: flex; justify-content: space-between; align-items: center;\">\n",
    "    \n",
    "    <h1 style=\"margin: 0; text-align: center; width: 100%\">\n",
    "        <font color='green'>Evaluation: Dataset 1</font>\n",
    "    </h1>\n",
    "    <a href=\"#toc\" style=\"text-decoration: none; font-size: 20px; margin-left: 10px;\">&#x21A9;</a>\n",
    "    \n",
    "</div>"
   ]
  },
  {
   "cell_type": "markdown",
   "id": "fccbc778-28c8-469c-b3d3-cf4543cc15ee",
   "metadata": {},
   "source": [
    "Data: Water Velocity [m/s] against time of the day [h] In following we look into the data taken at 15:50 with no film.\n",
    "\n",
    "As we are only interested in the data after x $\\approx$ 16.0 h (after the wind was switched of) we need to slice the data. We also need to filter the data, to minimize the noise. It seems reasonable, to first slice and then filter, so that we need to filter less.I already wrote and tested my filter algorithm on all the data files (so i intend to keep it) that works with lists. My initial slicing technique worked with np.arrays, as I wanted to work with hours for X, not with seconds. Now i decided to stick to the lists, the time will be in the seconds then."
   ]
  },
  {
   "cell_type": "markdown",
   "id": "0db66e5f-cb0a-4037-b12b-eaf147b4300c",
   "metadata": {},
   "source": [
    "<a class=\"anchor\" id=\"3.1\"></a>\n",
    "\n",
    "<div style=\"display: flex; justify-content: space-between; align-items: center;\">\n",
    "    \n",
    "    <h2 style=\"margin: 0; text-align: center; width: 100%\">\n",
    "        <font color='gray'>Reading in the Data</font>\n",
    "    </h2>\n",
    "    <a href=\"#toc\" style=\"text-decoration: none; font-size: 20px; margin-left: 10px;\">&#x21A9;</a>\n",
    "    \n",
    "</div>"
   ]
  },
  {
   "cell_type": "code",
   "execution_count": 4,
   "id": "bf92ab7c-d65e-4088-a06a-55772f02c662",
   "metadata": {},
   "outputs": [
    {
     "name": "stdout",
     "output_type": "stream",
     "text": [
      "data/2024_07_26_10_38_10_194617-2-anemometer-microseconds-spindown-ab-15.50.asc\n"
     ]
    }
   ],
   "source": [
    "#\n",
    "\n",
    "%matplotlib widget\n",
    "\n",
    "def readthefile(filename):\n",
    "    environmentfile = filename\n",
    "    #\"data/2024_07_31_10_47_54_751214-2-anemometer-microseconds-spindown-ab-15.05.asc\"\n",
    "    #\"data/2024_07_25_11_01_13_491761-2-anemometer-microseconds-spindown-ab-16.00.asc\"\n",
    "\n",
    "    plotpath=r\"data\"\n",
    "\n",
    "\n",
    "    print(environmentfile)\n",
    "\n",
    "\n",
    "    a1list=[]\n",
    "    a2list=[]\n",
    "    a1elapsedlist=[]\n",
    "    a2elapsedlist=[]\n",
    "\n",
    "    with open(environmentfile,'r') as infile:\n",
    "        lines=infile.readlines()\n",
    "        data=lines[1].split()\n",
    "        datestring=data[0]+\" \"+data[1]\n",
    "        starttime=dt.strptime(datestring,\"%Y-%m-%d %H:%M:%S.%f\")\n",
    "        datestring=data[0]\n",
    "        startday=dt.strptime(datestring,\"%Y-%m-%d\")\n",
    "        a1last=2.0\n",
    "        a2last=2.0\n",
    "        for line in lines[1:]:\n",
    "            data=line.split()\n",
    "            datestring=data[0]+\" \"+data[1]\n",
    "            try:\n",
    "                elapsedtime=dt.strptime(datestring,\"%Y-%m-%d %H:%M:%S.%f\")-startday\n",
    "            except ValueError:\n",
    "                elapsedtime=dt.strptime(datestring,\"%Y-%m-%d %H:%M:%S\")-startday\n",
    "            \n",
    "            elapsedtime=elapsedtime.total_seconds()\n",
    "        \n",
    "            if(data[2]==\"a1:\"):  \n",
    "                vel=1000000.0/float(data[4])/72\n",
    "                if ( (vel<3*a1last and vel>0.25) or (vel>0 and vel<0.5)):\n",
    "                    #print(vel)\n",
    "                    a1elapsedlist.append(elapsedtime) #x\n",
    "                    a1list.append(vel) #y\n",
    "                    a1last=vel\n",
    "            if(data[2]==\"a2:\"):\n",
    "                vel=1000000.0/float(data[4])/72\n",
    "                if ((vel<3*a2last and vel>0.25) or (vel>0 and vel<0.5)):\n",
    "                    a2elapsedlist.append(elapsedtime)\n",
    "                    a2list.append(vel)\n",
    "                    a2last=vel\n",
    "        \n",
    "    a1list.pop(0)\n",
    "    a2list.pop(0)\n",
    "    a1elapsedlist.pop(0)\n",
    "    a2elapsedlist.pop(0)\n",
    "    \n",
    "    return (a1elapsedlist, a1list, a2elapsedlist, a2list)\n",
    "\n",
    "a1elapsedlist,a1list, a2elapsedlist,a2list = readthefile(\"data/2024_07_26_10_38_10_194617-2-anemometer-microseconds-spindown-ab-15.50.asc\")"
   ]
  },
  {
   "cell_type": "markdown",
   "id": "5b00887f-dc59-4bac-8b16-022c1b00ca7a",
   "metadata": {},
   "source": [
    "<a class=\"anchor\" id=\"3.2\"></a>\n",
    "\n",
    "<div style=\"display: flex; justify-content: space-between; align-items: center;\">\n",
    "    \n",
    "    <h2 style=\"margin: 0; text-align: center; width: 100%\">\n",
    "        <font color='gray'>Full and sliced Data</font>\n",
    "    </h2>\n",
    "    <a href=\"#toc\" style=\"text-decoration: none; font-size: 20px; margin-left: 10px;\">&#x21A9;</a>\n",
    "    \n",
    "</div>\n"
   ]
  },
  {
   "cell_type": "code",
   "execution_count": 5,
   "id": "b8510e75-74bc-447d-beec-ea542a2433e5",
   "metadata": {},
   "outputs": [
    {
     "name": "stderr",
     "output_type": "stream",
     "text": [
      "/usr/lib/python3/dist-packages/matplotlib/__init__.py:882: MatplotlibDeprecationWarning: \n",
      "nbagg.transparent\n",
      "  version, key, obj_type=\"rcparam\", alternative=alt_key)\n"
     ]
    },
    {
     "data": {
      "application/vnd.jupyter.widget-view+json": {
       "model_id": "60952f69243541c4bc784160b14ed4d0",
       "version_major": 2,
       "version_minor": 0
      },
      "text/plain": [
       "Canvas(toolbar=Toolbar(toolitems=[('Home', 'Reset original view', 'home', 'home'), ('Back', 'Back to previous …"
      ]
     },
     "metadata": {},
     "output_type": "display_data"
    },
    {
     "name": "stdout",
     "output_type": "stream",
     "text": [
      "91485\n",
      "99383\n"
     ]
    },
    {
     "data": {
      "application/vnd.jupyter.widget-view+json": {
       "model_id": "f86934218470426995987be672c8bb16",
       "version_major": 2,
       "version_minor": 0
      },
      "text/plain": [
       "Canvas(toolbar=Toolbar(toolitems=[('Home', 'Reset original view', 'home', 'home'), ('Back', 'Back to previous …"
      ]
     },
     "metadata": {},
     "output_type": "display_data"
    }
   ],
   "source": [
    "def plotfullandsliced(a1elapsedlist,a1list,a2elapsedlist,a2list, bound):\n",
    "    \n",
    "    fig, ax = plt.subplots(figsize = (9,6))\n",
    "    #plt.ylim([-0.01,0.2])\n",
    "    #plt.xlim([16.0,16.9])\n",
    "\n",
    "    plt.xlabel('time of day [s]')\n",
    "    plt.ylabel('water velocity [m/s]')\n",
    "    plt.title(\"Full Data\")\n",
    "\n",
    "\n",
    "    ax.plot(a1elapsedlist,a1list,label=\"water anemometer a1\")\n",
    "    ax.plot(a2elapsedlist,a2list,label=\"water anemometer a2\")\n",
    "\n",
    "    plt.grid(visible=True, which='major', color='grey', linestyle='-')\n",
    "    ax.legend()\n",
    "\n",
    "\n",
    "    plt.show()\n",
    "\n",
    "    #cut everything that not out of the range \"after the wind stopped\" off\n",
    "    ind1 = find_position(a1elapsedlist, bound*3600) #15.0 #16.0\n",
    "    print(ind1)\n",
    "    ind2 = find_position(a2elapsedlist, bound*3600) #15.0 #16.0\n",
    "    print(ind2)\n",
    "    a1elapsed_s = a1elapsedlist[ind1::]\n",
    "    a2elapsed_s = a2elapsedlist[ind2::]\n",
    "    a1_s = a1list[ind1::]\n",
    "    a2_s = a2list[ind2::]\n",
    "\n",
    "    fig, ax = plt.subplots(figsize = (9,6))\n",
    "    #plt.ylim([-0.01,0.2])\n",
    "    #plt.xlim([16.0,16.9])\n",
    "\n",
    "    plt.xlabel('time of day [s]')\n",
    "    plt.ylabel('water velocity [m/s]')\n",
    "    plt.title(\"Sliced Data\")\n",
    "\n",
    "\n",
    "    ax.plot(a1elapsed_s,a1_s,label=\"water anemometer a1\")\n",
    "    ax.plot(a2elapsed_s,a2_s,label=\"water anemometer a2\")\n",
    "\n",
    "    plt.grid(visible=True, which='major', color='grey', linestyle='-')\n",
    "    ax.legend()\n",
    "\n",
    "\n",
    "    plt.show()\n",
    "    \n",
    "    return (a1elapsed_s, a1_s, a2elapsed_s, a2_s)\n",
    "\n",
    "a1elapsed_s, a1_s, a2elapsed_s, a2_s = plotfullandsliced(a1elapsedlist,a1list,a2elapsedlist,a2list, 16.0)"
   ]
  },
  {
   "cell_type": "markdown",
   "id": "85e82a68-b952-468b-a8e5-7bc99d35fc4a",
   "metadata": {},
   "source": [
    "<a class=\"anchor\" id=\"3.3\"></a>\n",
    "\n",
    "<div style=\"display: flex; justify-content: space-between; align-items: center;\">\n",
    "    \n",
    "    <h2 style=\"margin: 0; text-align: center; width: 100%\">\n",
    "        <font color='gray'>Implementing the filter</font>\n",
    "    </h2>\n",
    "    <a href=\"#toc\" style=\"text-decoration: none; font-size: 20px; margin-left: 10px;\">&#x21A9;</a>\n",
    "    \n",
    "</div>"
   ]
  },
  {
   "cell_type": "code",
   "execution_count": 6,
   "id": "4f012f50-b4aa-4f59-a7d0-ad7ae9c0c861",
   "metadata": {},
   "outputs": [
    {
     "data": {
      "application/vnd.jupyter.widget-view+json": {
       "model_id": "aa564377600946e7b6d4eb4cd3c4ec36",
       "version_major": 2,
       "version_minor": 0
      },
      "text/plain": [
       "Canvas(toolbar=Toolbar(toolitems=[('Home', 'Reset original view', 'home', 'home'), ('Back', 'Back to previous …"
      ]
     },
     "metadata": {},
     "output_type": "display_data"
    }
   ],
   "source": [
    "def plotfilter(a1elapsed_s, a1_s, a2elapsed_s, a2_s):\n",
    "\n",
    "    #filter\n",
    "    a1elapsed_fs = filter(a1elapsed_s, a1_s)[0]\n",
    "    a1_fs = filter(a1elapsed_s, a1_s)[1]\n",
    "\n",
    "    a2elapsed_fs = filter(a2elapsed_s, a2_s)[0]\n",
    "    a2_fs = filter(a2elapsed_s, a2_s)[1]\n",
    "\n",
    "    fig, ax = plt.subplots(figsize = (9,6))\n",
    "    #plt.ylim([-0.01,0.2])\n",
    "    #plt.xlim([16.0,16.9])\n",
    "\n",
    "    plt.xlabel('time of day [s]')\n",
    "    plt.ylabel('water velocity [m/s]')\n",
    "    plt.title(\"Sliced Filtered Data\")\n",
    "\n",
    "\n",
    "    ax.plot(a1elapsed_fs,a1_fs,label=\"water anemometer a1\")\n",
    "    ax.plot(a2elapsed_fs,a2_fs,label=\"water anemometer a2\")\n",
    "\n",
    "    plt.grid(visible=True, which='major', color='grey', linestyle='-')\n",
    "    ax.legend()\n",
    "\n",
    "\n",
    "    plt.show()\n",
    "    \n",
    "    return a1elapsed_fs, a1_fs, a2elapsed_fs, a2_fs\n",
    "\n",
    "a1elapsed_fs, a1_fs, a2elapsed_fs, a2_fs = plotfilter(a1elapsed_s, a1_s, a2elapsed_s, a2_s)"
   ]
  },
  {
   "cell_type": "markdown",
   "id": "c0a68711-8208-4ef6-9d9a-fcd614abfc8e",
   "metadata": {},
   "source": [
    "As the both anemometers measured the same velocity, __we will now stick to the one, that messured more - water anemometer a2__."
   ]
  },
  {
   "cell_type": "markdown",
   "id": "e8e9eb59-1809-4e89-8421-a3efdd125efb",
   "metadata": {
    "tags": []
   },
   "source": [
    "<a class=\"anchor\" id=\"3.4\"></a>\n",
    "\n",
    "<div style=\"display: flex; justify-content: space-between; align-items: center;\">\n",
    "    \n",
    "    <h2 style=\"margin: 0; text-align: center; width: 100%\">\n",
    "        <font color='gray'>Smoothing the data</font>\n",
    "    </h2>\n",
    "    <a href=\"#toc\" style=\"text-decoration: none; font-size: 20px; margin-left: 10px;\">&#x21A9;</a>\n",
    "    \n",
    "</div>"
   ]
  },
  {
   "cell_type": "markdown",
   "id": "0c316d68-127c-4c02-90b8-cbb9a22998fb",
   "metadata": {},
   "source": [
    "After some attempts in implementing curve_fit function on the filtered data, it's been established that even the filtered data has too much noise. After conducting some reaserch in the Internet the technique of the data smoothing comes into question. According to the Internet the following information about each method should help with choosing the right technique:\n",
    "\n",
    "- Moving Average: Best for reducing random noise, simple to implement.\n",
    "\n",
    "- Exponential Smoothing: Good for data with trends and seasonal patterns.\n",
    "\n",
    "- Savitzky-Golay Filter: Preserves the original shape and features of the signal better than moving averages.\n",
    "\n",
    "- Gaussian Smoothing: Good for general smoothing with a specific smoothing width.\n",
    "\n",
    "- Median Filter: Effective for removing spikes and outliers.\n",
    "\n",
    "- Lowess: Ideal for smoothing data with complex, non-linear trends.\n",
    "\n",
    "In the end I picked the Lowess method, because it provided the best smoothing result for my data. The next cell is a side-by-side comparesment of many different data smoothing algorithms on randomly generated noisy data."
   ]
  },
  {
   "cell_type": "markdown",
   "id": "67d5fe8e-4c96-4dd6-8767-6e8bfb6d99a1",
   "metadata": {},
   "source": [
    "<a class=\"anchor\" id=\"3.5\"></a>\n",
    "\n",
    "<div style=\"display: flex; justify-content: space-between; align-items: center;\">\n",
    "    \n",
    "    <h2 style=\"margin: 0; text-align: center; width: 100%\">\n",
    "        <font color='gray'>Comparesment of data smoothing algorithms</font>\n",
    "    </h2>\n",
    "    <a href=\"#toc\" style=\"text-decoration: none; font-size: 20px; margin-left: 10px;\">&#x21A9;</a>\n",
    "    \n",
    "</div>"
   ]
  },
  {
   "cell_type": "code",
   "execution_count": 7,
   "id": "43bd8f88-1364-4439-8e83-88b9bd4dcb22",
   "metadata": {},
   "outputs": [
    {
     "name": "stderr",
     "output_type": "stream",
     "text": [
      "/usr/lib/python3/dist-packages/matplotlib/__init__.py:882: MatplotlibDeprecationWarning: \n",
      "nbagg.transparent\n",
      "  version, key, obj_type=\"rcparam\", alternative=alt_key)\n"
     ]
    },
    {
     "data": {
      "application/vnd.jupyter.widget-view+json": {
       "model_id": "35fe1feb14784bbe9f6393205b6533a0",
       "version_major": 2,
       "version_minor": 0
      },
      "text/plain": [
       "Canvas(toolbar=Toolbar(toolitems=[('Home', 'Reset original view', 'home', 'home'), ('Back', 'Back to previous …"
      ]
     },
     "metadata": {},
     "output_type": "display_data"
    }
   ],
   "source": [
    "#side-by-side comparesment of many different data smoothing algorithms\n",
    "import numpy as np\n",
    "import matplotlib.pyplot as plt\n",
    "import pandas as pd\n",
    "from statsmodels.tsa.holtwinters import ExponentialSmoothing\n",
    "from scipy.signal import savgol_filter\n",
    "from scipy.ndimage import gaussian_filter\n",
    "from scipy.signal import medfilt\n",
    "import statsmodels.api as sm\n",
    "\n",
    "def simple_moving_average(data, window_size):\n",
    "    return np.convolve(data, np.ones(window_size) / window_size, mode='valid')\n",
    "\n",
    "def weighted_moving_average(data, weights):\n",
    "    return np.convolve(data, weights, mode='valid')\n",
    "\n",
    "def simple_exponential_smoothing(data, alpha):\n",
    "    return pd.Series(data).ewm(alpha=alpha).mean().values\n",
    "\n",
    "def double_exponential_smoothing(data, seasonal_periods=None):\n",
    "    model = ExponentialSmoothing(data, trend='add', seasonal_periods=seasonal_periods).fit()\n",
    "    return model.fittedvalues\n",
    "\n",
    "def savitzky_golay_smoothing(data, window_length, polyorder):\n",
    "    return savgol_filter(data, window_length, polyorder)\n",
    "\n",
    "def gaussian_smoothing(data, sigma):\n",
    "    return gaussian_filter(data, sigma=sigma)\n",
    "\n",
    "def median_filter_smoothing(data, kernel_size):\n",
    "    return medfilt(data, kernel_size=kernel_size)\n",
    "\n",
    "def lowess_smoothing(data, frac):\n",
    "    x = np.arange(len(data))\n",
    "    smoothed = sm.nonparametric.lowess(data, x, frac=frac)\n",
    "    return smoothed[:, 1]\n",
    "\n",
    "# Generate synthetic noisy data\n",
    "np.random.seed(0)\n",
    "x = np.linspace(0, 10, 100)\n",
    "y = np.sin(x) + 0.5 * np.random.normal(size=x.size)\n",
    "\n",
    "# Apply smoothing techniques\n",
    "y_sma = simple_moving_average(y, window_size=5)\n",
    "y_wma = weighted_moving_average(y, np.array([0.1, 0.2, 0.4, 0.2, 0.1]))\n",
    "y_exp = simple_exponential_smoothing(y, alpha=0.3)\n",
    "y_sg = savitzky_golay_smoothing(y, window_length=11, polyorder=2)\n",
    "y_gauss = gaussian_smoothing(y, sigma=2)\n",
    "y_med = median_filter_smoothing(y, kernel_size=5)\n",
    "y_lowess = lowess_smoothing(y, frac=0.2)\n",
    "\n",
    "# Plot the original and smoothed data\n",
    "plt.figure(figsize=(9, 6))\n",
    "plt.plot(x, y, 'k-', label='Original Data')\n",
    "plt.plot(x[2:-2], y_sma, 'b-', label='Simple Moving Average')\n",
    "plt.plot(x[2:-2], y_wma, 'c-', label='Weighted Moving Average')\n",
    "plt.plot(x, y_exp, 'g-', label='Exponential Smoothing')\n",
    "plt.plot(x, y_sg, 'm-', label='Savitzky-Golay Filter')\n",
    "plt.plot(x, y_gauss, 'y-', label='Gaussian Smoothing')\n",
    "plt.plot(x, y_med, 'r-', label='Median Filter')\n",
    "plt.plot(x, y_lowess, 'orange', label='Lowess Smoothing')\n",
    "plt.legend()\n",
    "plt.xlabel('x')\n",
    "plt.ylabel('y')\n",
    "plt.title('Comparison of Smoothing Techniques')\n",
    "plt.show()\n"
   ]
  },
  {
   "cell_type": "markdown",
   "id": "e7392ea5-8acc-4cfb-ab1f-da9f6091a4ce",
   "metadata": {},
   "source": [
    "<a class=\"anchor\" id=\"3.6\"></a>\n",
    "\n",
    "<div style=\"display: flex; justify-content: space-between; align-items: center;\">\n",
    "    \n",
    "    <h2 style=\"margin: 0; text-align: center; width: 100%\">\n",
    "        <font color='gray'>Implementing of data smoothing algorithms</font>\n",
    "    </h2>\n",
    "    <a href=\"#toc\" style=\"text-decoration: none; font-size: 20px; margin-left: 10px;\">&#x21A9;</a>\n",
    "    \n",
    "</div>"
   ]
  },
  {
   "cell_type": "code",
   "execution_count": 8,
   "id": "74720cd9-e2b4-46aa-a1c2-217317e74d53",
   "metadata": {},
   "outputs": [
    {
     "data": {
      "application/vnd.jupyter.widget-view+json": {
       "model_id": "8def23af4b524a0783a77dc272a17a9f",
       "version_major": 2,
       "version_minor": 0
      },
      "text/plain": [
       "Canvas(toolbar=Toolbar(toolitems=[('Home', 'Reset original view', 'home', 'home'), ('Back', 'Back to previous …"
      ]
     },
     "metadata": {},
     "output_type": "display_data"
    },
    {
     "data": {
      "application/vnd.jupyter.widget-view+json": {
       "model_id": "5cb82df8d88641e4a27b68ecd290098c",
       "version_major": 2,
       "version_minor": 0
      },
      "text/plain": [
       "Canvas(toolbar=Toolbar(toolitems=[('Home', 'Reset original view', 'home', 'home'), ('Back', 'Back to previous …"
      ]
     },
     "metadata": {},
     "output_type": "display_data"
    },
    {
     "data": {
      "application/vnd.jupyter.widget-view+json": {
       "model_id": "c842b0d493814d6f857797a1ce81afa7",
       "version_major": 2,
       "version_minor": 0
      },
      "text/plain": [
       "Canvas(toolbar=Toolbar(toolitems=[('Home', 'Reset original view', 'home', 'home'), ('Back', 'Back to previous …"
      ]
     },
     "metadata": {},
     "output_type": "display_data"
    }
   ],
   "source": [
    "#smoothing\n",
    "\n",
    "a2_sma = simple_moving_average(a2_fs, window_size=101)\n",
    "\n",
    "a2_exp = simple_exponential_smoothing(a2_fs, alpha=0.1)\n",
    "\n",
    "a2_sg = savitzky_golay_smoothing(a2_fs, window_length=101, polyorder=2)\n",
    "\n",
    "a2_gauss = gaussian_smoothing(a2_fs, sigma=100)\n",
    "\n",
    "a2_med = median_filter_smoothing(a2_fs, kernel_size=101)\n",
    "\n",
    "a2_lowess = lowess_smoothing(a2_fs, frac=0.2)\n",
    "\n",
    "labels1 = ['data a2', 'Savitzky-Golay', 'Lowess smoothing']\n",
    "a2_data1 = [a2_fs, a2_sg, a2_lowess]\n",
    "\n",
    "labels2 = ['data a2', 'median filter', 'Gaussian smoothing']\n",
    "a2_data2 = [a2_fs, a2_med, a2_gauss]\n",
    "\n",
    "#%%\n",
    "\n",
    "fig1, ax1 = plt.subplots(figsize = (9,6))\n",
    "\n",
    "plt.xlabel('time of day [s]')\n",
    "plt.ylabel('water velocity [m/s]')\n",
    "plt.title(\"Smoothing 1\")\n",
    "\n",
    "   \n",
    "for i in range(len(a2_data1)):\n",
    "    ax1.plot(a2elapsed_fs, a2_data1[i], label = labels1[i])\n",
    "\n",
    "plt.grid(visible=True, which='major', color='grey', linestyle='-')\n",
    "\n",
    "ax1.legend()\n",
    "plt.show()\n",
    "\n",
    "\n",
    "#%%\n",
    "\n",
    "fig2, ax2 = plt.subplots(figsize = (9,6))\n",
    "\n",
    "plt.xlabel('time of day [s]')\n",
    "plt.ylabel('water velocity [m/s]')\n",
    "plt.title(\"Smoothing 2\")\n",
    "\n",
    "for i in range(len(a2_data2)):\n",
    "    ax2.plot(a2elapsed_fs, a2_data2[i], label = labels2[i])\n",
    "    \n",
    "plt.grid(visible=True, which='major', color='grey', linestyle='-')\n",
    "\n",
    "ax2.legend()\n",
    "plt.show()\n",
    "    \n",
    "#%%\n",
    "\n",
    "fig3, ax3 = plt.subplots(figsize = (9,6))\n",
    "\n",
    "plt.xlabel('time of day [s]')\n",
    "plt.ylabel('water velocity [m/s]')\n",
    "plt.title(\"Smoothing 3\")\n",
    "    \n",
    "ax3.plot(a2elapsed_fs, a2_fs, label = 'data')\n",
    "\n",
    "ax3.plot(a2elapsed_fs,  a2_exp, label = 'exponential smoothig')\n",
    "\n",
    "ax3.plot(a2elapsed_fs[50:-50], a2_sma, label = 'moving average')\n",
    "\n",
    "plt.grid(visible=True, which='major', color='grey', linestyle='-')\n",
    "\n",
    "ax3.legend()\n",
    "plt.show()\n",
    "\n",
    "\n"
   ]
  },
  {
   "cell_type": "markdown",
   "id": "2c0e0fff-efb4-43d9-aec5-4c9d9ce36554",
   "metadata": {},
   "source": [
    "<a class=\"anchor\" id=\"3.7\"></a>\n",
    "\n",
    "<div style=\"display: flex; justify-content: space-between; align-items: center;\">\n",
    "    \n",
    "    <h2 style=\"margin: 0; text-align: center; width: 100%\">\n",
    "        <font color='gray'>Fitting</font>\n",
    "    </h2>\n",
    "    <a href=\"#toc\" style=\"text-decoration: none; font-size: 20px; margin-left: 10px;\">&#x21A9;</a>\n",
    "    \n",
    "</div>"
   ]
  },
  {
   "cell_type": "code",
   "execution_count": 9,
   "id": "0925f677-07e1-41b0-b2c4-9c238a82b9fa",
   "metadata": {},
   "outputs": [
    {
     "data": {
      "application/vnd.jupyter.widget-view+json": {
       "model_id": "a5b5e15306be4a11afc0b225b578a703",
       "version_major": 2,
       "version_minor": 0
      },
      "text/plain": [
       "Canvas(toolbar=Toolbar(toolitems=[('Home', 'Reset original view', 'home', 'home'), ('Back', 'Back to previous …"
      ]
     },
     "metadata": {},
     "output_type": "display_data"
    },
    {
     "name": "stdout",
     "output_type": "stream",
     "text": [
      "K= 0.0220030254566865 +/- 6.318247473260458e-05\n"
     ]
    }
   ],
   "source": [
    "def koef_func(t, K, u0):\n",
    "        return (u0/(1 + K*u0*t))\n",
    "\n",
    "def fittingandsmoothing(a2_fs, a2elapsed_fs, a2_lowess, bound_up, bound_down):\n",
    "\n",
    "    #smoothing\n",
    "    a2_lowess = lowess_smoothing(a2_fs, frac=0.2)\n",
    "\n",
    "    #para = [0.01, 0.9]\n",
    "    popt, pcov = curve_fit(koef_func, np.array(a2elapsed_fs)-(bound_down*3600), a2_lowess)\n",
    "    xfine = np.linspace(0, bound_up*3600 - bound_down*3600) \n",
    "\n",
    "    fig, ax = plt.subplots(figsize = (9,6))\n",
    "\n",
    "    plt.xlabel('time of day [s]')\n",
    "    plt.ylabel('water velocity [m/s]')\n",
    "    plt.title(\"Smoothing and Fitting\")\n",
    "\n",
    "    ax.plot(a2elapsed_fs, a2_fs, label = \"data a2\")\n",
    "    ax.plot(xfine+(bound_down*3600), koef_func(xfine, *popt), label = 'fit Lowess')\n",
    "    ax.plot(a2elapsed_fs, a2_lowess, label = \"Lowess smoothing\")\n",
    "\n",
    "    plt.grid(visible=True, which='major', color='grey', linestyle='-')\n",
    "\n",
    "    ax.legend()\n",
    "    plt.show()\n",
    "    \n",
    "    return (popt[0], pcov[0][0]**0.5)\n",
    "    \n",
    "K = fittingandsmoothing(a2_fs, a2elapsed_fs, a2_lowess, 16.9, 16.0)\n",
    "print('K=', K[0], '+/-', K[1])"
   ]
  },
  {
   "cell_type": "markdown",
   "id": "3044f359-56bc-43ed-a73a-485e6b83c523",
   "metadata": {},
   "source": [
    "I tried this fitting algorithm with the data smoothed via Savitzky-Golay and got the exact same fit. After I was done, Kerstin suggested I invert the fitting function, so that it becomes linear. This method is supposed to be adventageous as more accurate."
   ]
  },
  {
   "cell_type": "markdown",
   "id": "6c9c22da-80c1-4b17-887d-493b560dbf6b",
   "metadata": {},
   "source": [
    "<a class=\"anchor\" id=\"3.8\"></a>\n",
    "\n",
    "<div style=\"display: flex; justify-content: space-between; align-items: center;\">\n",
    "    \n",
    "    <h2 style=\"margin: 0; text-align: center; width: 100%\">\n",
    "        <font color='gray'>Inverting the Function and Fitting again</font>\n",
    "    </h2>\n",
    "    <a href=\"#toc\" style=\"text-decoration: none; font-size: 20px; margin-left: 10px;\">&#x21A9;</a>\n",
    "    \n",
    "</div>"
   ]
  },
  {
   "cell_type": "code",
   "execution_count": 10,
   "id": "5fe1152f-f61d-469f-83b6-32b430dde896",
   "metadata": {},
   "outputs": [
    {
     "data": {
      "application/vnd.jupyter.widget-view+json": {
       "model_id": "a37d603abf3f439bb6c1ec67be10758e",
       "version_major": 2,
       "version_minor": 0
      },
      "text/plain": [
       "Canvas(toolbar=Toolbar(toolitems=[('Home', 'Reset original view', 'home', 'home'), ('Back', 'Back to previous …"
      ]
     },
     "metadata": {},
     "output_type": "display_data"
    },
    {
     "name": "stdout",
     "output_type": "stream",
     "text": [
      "K= 0.036550479260923585 +/- 0.0001648838203410883\n"
     ]
    }
   ],
   "source": [
    "def koef_func_inverse(t, K, C):\n",
    "    return (C + K*t)\n",
    "\n",
    "def inversefitting(a2_fs, a2elapsed_fs, a2_lowess, bound_up, bound_down):\n",
    "\n",
    "    #para = [0.01, 0.9]\n",
    "    popt, pcov = curve_fit(koef_func_inverse, np.array(a2elapsed_fs)-(bound_down*3600), 1/a2_lowess)\n",
    "    xfine = np.linspace(0, bound_up*3600-bound_down*3600) \n",
    "\n",
    "    fig, ax = plt.subplots(figsize = (9,6))\n",
    "\n",
    "    plt.xlabel('time of day [s]')\n",
    "    plt.ylabel('inverse water velocity [s/m]')\n",
    "    plt.title(\"Inverted Fit\")\n",
    "\n",
    "    ax.plot(a2elapsed_fs, 1/np.array(a2_fs), label = \"data a2\")\n",
    "    ax.plot(xfine+(bound_down*3600), koef_func_inverse(xfine, *popt), label = 'fit')\n",
    "    ax.plot(a2elapsed_fs, 1/np.array(a2_lowess), label = \"lowess smoothing\")\n",
    "\n",
    "    plt.grid(visible=True, which='major', color='grey', linestyle='-')\n",
    "\n",
    "    ax.legend()\n",
    "    plt.show()\n",
    "    \n",
    "    return (popt[0], pcov[0][0]**0.5)\n",
    "\n",
    "#%%\n",
    "K = inversefitting(a2_fs, a2elapsed_fs, a2_lowess, 16.9, 16.0)\n",
    "print('K=', K[0], '+/-', K[1])"
   ]
  },
  {
   "cell_type": "markdown",
   "id": "0be539aa-4756-4f97-9c73-550732899905",
   "metadata": {},
   "source": [
    "After observing the data exploading for $t > \\approx 59000 \\, s$ I was recomended to only use the data below $58500$ this point."
   ]
  },
  {
   "cell_type": "code",
   "execution_count": 11,
   "id": "9c66ebcd-4896-43cc-b26f-e045228d4dae",
   "metadata": {},
   "outputs": [
    {
     "name": "stdout",
     "output_type": "stream",
     "text": [
      "3495\n"
     ]
    },
    {
     "data": {
      "application/vnd.jupyter.widget-view+json": {
       "model_id": "f8fb65176cca44fda9157e8fa3cfaf12",
       "version_major": 2,
       "version_minor": 0
      },
      "text/plain": [
       "Canvas(toolbar=Toolbar(toolitems=[('Home', 'Reset original view', 'home', 'home'), ('Back', 'Back to previous …"
      ]
     },
     "metadata": {},
     "output_type": "display_data"
    },
    {
     "name": "stdout",
     "output_type": "stream",
     "text": [
      "K= 0.021157615372626275 +/- 3.368009771215271e-05\n"
     ]
    }
   ],
   "source": [
    "ind = find_position(a2elapsed_fs, 58500) \n",
    "print(ind)\n",
    "\n",
    "K = inversefitting(a2_fs[:ind:], a2elapsed_fs[:ind:], a2_lowess[:ind:], 58500/3600, 16.0)\n",
    "print('K=', K[0], '+/-', K[1])"
   ]
  },
  {
   "cell_type": "markdown",
   "id": "16488d86-be95-4358-aa56-6758a0054d61",
   "metadata": {},
   "source": [
    "Next i am going to try and use only the very beggining of the plot to fit my function and get my $K$"
   ]
  },
  {
   "cell_type": "code",
   "execution_count": 12,
   "id": "946977aa-3695-49b5-8923-82ece3711f46",
   "metadata": {},
   "outputs": [
    {
     "name": "stdout",
     "output_type": "stream",
     "text": [
      "1981\n"
     ]
    },
    {
     "data": {
      "application/vnd.jupyter.widget-view+json": {
       "model_id": "f509254581ab4709b78cec165168aee0",
       "version_major": 2,
       "version_minor": 0
      },
      "text/plain": [
       "Canvas(toolbar=Toolbar(toolitems=[('Home', 'Reset original view', 'home', 'home'), ('Back', 'Back to previous …"
      ]
     },
     "metadata": {},
     "output_type": "display_data"
    },
    {
     "name": "stdout",
     "output_type": "stream",
     "text": [
      "K= 0.017714232885995263 +/- 2.3113446951216764e-05\n"
     ]
    }
   ],
   "source": [
    "ind = find_position(a2elapsed_fs, 58000) \n",
    "print(ind)\n",
    "\n",
    "K = inversefitting(a2_fs[:ind:], a2elapsed_fs[:ind:], a2_lowess[:ind:], 58000/3600, 16.0)\n",
    "print('K=', K[0], '+/-', K[1])\n"
   ]
  },
  {
   "cell_type": "markdown",
   "id": "47060bf0-6ec0-4f6c-9487-6328adcea091",
   "metadata": {},
   "source": [
    "<a class=\"anchor\" id=\"4\"></a>\n",
    "\n",
    "<div style=\"display: flex; justify-content: space-between; align-items: center;\">\n",
    "    \n",
    "    <h1 style=\"margin: 0; text-align: center; width: 100%\">\n",
    "        <font color='green'>Evaluation: Dataset 2</font>\n",
    "    </h1>\n",
    "    <a href=\"#toc\" style=\"text-decoration: none; font-size: 20px; margin-left: 10px;\">&#x21A9;</a>\n",
    "    \n",
    "</div>\n",
    "\n",
    "__before evaluating Datasets 2,3 and 4 the Dataset 1 section of this notebook should be run, because it defines important functions.__ "
   ]
  },
  {
   "cell_type": "code",
   "execution_count": 13,
   "id": "7244fc2a-b634-499c-afc7-783c6cb1c724",
   "metadata": {},
   "outputs": [
    {
     "name": "stdout",
     "output_type": "stream",
     "text": [
      "data/2024_07_31_10_47_54_751214-2-anemometer-microseconds-spindown-ab-15.05.asc\n"
     ]
    },
    {
     "data": {
      "application/vnd.jupyter.widget-view+json": {
       "model_id": "bf278c1220b247b6a32fef8c193fa4ea",
       "version_major": 2,
       "version_minor": 0
      },
      "text/plain": [
       "Canvas(toolbar=Toolbar(toolitems=[('Home', 'Reset original view', 'home', 'home'), ('Back', 'Back to previous …"
      ]
     },
     "metadata": {},
     "output_type": "display_data"
    },
    {
     "name": "stdout",
     "output_type": "stream",
     "text": [
      "7613\n",
      "15646\n"
     ]
    },
    {
     "data": {
      "application/vnd.jupyter.widget-view+json": {
       "model_id": "767ae655fd23467a8e81915a792da119",
       "version_major": 2,
       "version_minor": 0
      },
      "text/plain": [
       "Canvas(toolbar=Toolbar(toolitems=[('Home', 'Reset original view', 'home', 'home'), ('Back', 'Back to previous …"
      ]
     },
     "metadata": {},
     "output_type": "display_data"
    },
    {
     "data": {
      "application/vnd.jupyter.widget-view+json": {
       "model_id": "228d9a9d24544868829b983fd679f3e5",
       "version_major": 2,
       "version_minor": 0
      },
      "text/plain": [
       "Canvas(toolbar=Toolbar(toolitems=[('Home', 'Reset original view', 'home', 'home'), ('Back', 'Back to previous …"
      ]
     },
     "metadata": {},
     "output_type": "display_data"
    },
    {
     "data": {
      "application/vnd.jupyter.widget-view+json": {
       "model_id": "12717670bb7a487ea35f1d1cfb7acdd1",
       "version_major": 2,
       "version_minor": 0
      },
      "text/plain": [
       "Canvas(toolbar=Toolbar(toolitems=[('Home', 'Reset original view', 'home', 'home'), ('Back', 'Back to previous …"
      ]
     },
     "metadata": {},
     "output_type": "display_data"
    },
    {
     "name": "stdout",
     "output_type": "stream",
     "text": [
      "K= 0.023191430063794573 +/- 0.00018421636713099264\n"
     ]
    },
    {
     "data": {
      "application/vnd.jupyter.widget-view+json": {
       "model_id": "0993acfdf480424faaf4472a0b888bfd",
       "version_major": 2,
       "version_minor": 0
      },
      "text/plain": [
       "Canvas(toolbar=Toolbar(toolitems=[('Home', 'Reset original view', 'home', 'home'), ('Back', 'Back to previous …"
      ]
     },
     "metadata": {},
     "output_type": "display_data"
    },
    {
     "name": "stdout",
     "output_type": "stream",
     "text": [
      "K= 0.040847785237380196 +/- 0.0003112847490102252\n",
      "2340\n"
     ]
    },
    {
     "data": {
      "application/vnd.jupyter.widget-view+json": {
       "model_id": "cb5562fefbb546a38ed88e2203265487",
       "version_major": 2,
       "version_minor": 0
      },
      "text/plain": [
       "Canvas(toolbar=Toolbar(toolitems=[('Home', 'Reset original view', 'home', 'home'), ('Back', 'Back to previous …"
      ]
     },
     "metadata": {},
     "output_type": "display_data"
    },
    {
     "name": "stdout",
     "output_type": "stream",
     "text": [
      "K= 0.020101318229077236 +/- 0.0001558216238478331\n",
      "1358\n"
     ]
    },
    {
     "data": {
      "application/vnd.jupyter.widget-view+json": {
       "model_id": "953b1f0aca634fd597de00f86e7b4a1d",
       "version_major": 2,
       "version_minor": 0
      },
      "text/plain": [
       "Canvas(toolbar=Toolbar(toolitems=[('Home', 'Reset original view', 'home', 'home'), ('Back', 'Back to previous …"
      ]
     },
     "metadata": {},
     "output_type": "display_data"
    },
    {
     "name": "stdout",
     "output_type": "stream",
     "text": [
      "K= 0.009797766410070019 +/- 0.00022762001988920643\n"
     ]
    }
   ],
   "source": [
    "#reading in the data\n",
    "\n",
    "a1elapsedlist,a1list, a2elapsedlist,a2list = readthefile(\"data/2024_07_31_10_47_54_751214-2-anemometer-microseconds-spindown-ab-15.05.asc\")\n",
    "\n",
    "#printing full and sliced\n",
    "\n",
    "a1elapsed_s, a1_s, a2elapsed_s, a2_s = plotfullandsliced(a1elapsedlist,a1list,a2elapsedlist,a2list, 15.0)\n",
    "\n",
    "#implementing the filter\n",
    "\n",
    "a1elapsed_fs, a1_fs, a2elapsed_fs, a2_fs = plotfilter(a1elapsed_s, a1_s, a2elapsed_s, a2_s)\n",
    "\n",
    "#smoothing and fitting\n",
    "a2_lowess = lowess_smoothing(a2_fs, frac=0.2)\n",
    "\n",
    "K = fittingandsmoothing(a2_fs, a2elapsed_fs, a2_lowess, 15.9, 15.0)\n",
    "print('K=', K[0], '+/-', K[1])\n",
    "\n",
    "#inverted fit\n",
    "\n",
    "K = inversefitting(a2_fs, a2elapsed_fs, a2_lowess, 15.9, 15.0)\n",
    "print('K=', K[0], '+/-', K[1])\n",
    "\n",
    "#zoomed in fit\n",
    "\n",
    "ind = find_position(a2elapsed_fs, 55000) \n",
    "print(ind)\n",
    "\n",
    "K = inversefitting(a2_fs[:ind:], a2elapsed_fs[:ind:], a2_lowess[:ind:], 55000/3600, 15.0)\n",
    "print('K=', K[0], '+/-', K[1])\n",
    "\n",
    "\n",
    "#closer zoomed in fit\n",
    "\n",
    "ind = find_position(a2elapsed_fs, 54500) \n",
    "print(ind)\n",
    "\n",
    "K = inversefitting(a2_fs[:ind:], a2elapsed_fs[:ind:], a2_lowess[:ind:], 54500/3600, 15.0)\n",
    "print('K=', K[0], '+/-', K[1])"
   ]
  },
  {
   "cell_type": "markdown",
   "id": "9e9a0ae6-cfed-43b8-99ca-1b6cca6dbe56",
   "metadata": {},
   "source": [
    "<a class=\"anchor\" id=\"5\"></a>\n",
    "\n",
    "<div style=\"display: flex; justify-content: space-between; align-items: center;\">\n",
    "    \n",
    "    <h1 style=\"margin: 0; text-align: center; width: 100%\">\n",
    "        <font color='green'>Evaluation: Dataset 3</font>\n",
    "    </h1>\n",
    "    <a href=\"#toc\" style=\"text-decoration: none; font-size: 20px; margin-left: 10px;\">&#x21A9;</a>\n",
    "    \n",
    "</div>"
   ]
  },
  {
   "cell_type": "code",
   "execution_count": 14,
   "id": "95982709-35ed-4d1b-9fe2-d12cd61616a9",
   "metadata": {},
   "outputs": [
    {
     "name": "stdout",
     "output_type": "stream",
     "text": [
      "data/2024_07_25_11_01_13_491761-2-anemometer-microseconds-spindown-ab-16.00.asc\n"
     ]
    },
    {
     "data": {
      "application/vnd.jupyter.widget-view+json": {
       "model_id": "9e4ac23476ac4fecab5cfc19871298fc",
       "version_major": 2,
       "version_minor": 0
      },
      "text/plain": [
       "Canvas(toolbar=Toolbar(toolitems=[('Home', 'Reset original view', 'home', 'home'), ('Back', 'Back to previous …"
      ]
     },
     "metadata": {},
     "output_type": "display_data"
    },
    {
     "name": "stdout",
     "output_type": "stream",
     "text": [
      "67334\n",
      "76771\n"
     ]
    },
    {
     "data": {
      "application/vnd.jupyter.widget-view+json": {
       "model_id": "f6dad9ea490d4cf8a1d6e3d71011a295",
       "version_major": 2,
       "version_minor": 0
      },
      "text/plain": [
       "Canvas(toolbar=Toolbar(toolitems=[('Home', 'Reset original view', 'home', 'home'), ('Back', 'Back to previous …"
      ]
     },
     "metadata": {},
     "output_type": "display_data"
    },
    {
     "name": "stderr",
     "output_type": "stream",
     "text": [
      "/usr/lib/python3/dist-packages/matplotlib/pyplot.py:514: RuntimeWarning: More than 20 figures have been opened. Figures created through the pyplot interface (`matplotlib.pyplot.figure`) are retained until explicitly closed and may consume too much memory. (To control this warning, see the rcParam `figure.max_open_warning`).\n",
      "  max_open_warning, RuntimeWarning)\n"
     ]
    },
    {
     "data": {
      "application/vnd.jupyter.widget-view+json": {
       "model_id": "db73eb22ab51459f83983f487fd00fec",
       "version_major": 2,
       "version_minor": 0
      },
      "text/plain": [
       "Canvas(toolbar=Toolbar(toolitems=[('Home', 'Reset original view', 'home', 'home'), ('Back', 'Back to previous …"
      ]
     },
     "metadata": {},
     "output_type": "display_data"
    },
    {
     "data": {
      "application/vnd.jupyter.widget-view+json": {
       "model_id": "57192597076e467aaeb608d27abe7d2a",
       "version_major": 2,
       "version_minor": 0
      },
      "text/plain": [
       "Canvas(toolbar=Toolbar(toolitems=[('Home', 'Reset original view', 'home', 'home'), ('Back', 'Back to previous …"
      ]
     },
     "metadata": {},
     "output_type": "display_data"
    },
    {
     "name": "stdout",
     "output_type": "stream",
     "text": [
      "K= 0.013813980511143013 +/- 3.041773970940045e-05\n"
     ]
    },
    {
     "data": {
      "application/vnd.jupyter.widget-view+json": {
       "model_id": "9943aeae10104ad2bf5ebe10eb680f08",
       "version_major": 2,
       "version_minor": 0
      },
      "text/plain": [
       "Canvas(toolbar=Toolbar(toolitems=[('Home', 'Reset original view', 'home', 'home'), ('Back', 'Back to previous …"
      ]
     },
     "metadata": {},
     "output_type": "display_data"
    },
    {
     "name": "stdout",
     "output_type": "stream",
     "text": [
      "K= 0.02813872586034627 +/- 0.00010428664757751137\n",
      "9484\n"
     ]
    },
    {
     "data": {
      "application/vnd.jupyter.widget-view+json": {
       "model_id": "d88c8e89a5ce45a3b010a4d8587c12d0",
       "version_major": 2,
       "version_minor": 0
      },
      "text/plain": [
       "Canvas(toolbar=Toolbar(toolitems=[('Home', 'Reset original view', 'home', 'home'), ('Back', 'Back to previous …"
      ]
     },
     "metadata": {},
     "output_type": "display_data"
    },
    {
     "name": "stdout",
     "output_type": "stream",
     "text": [
      "K= 0.023719722847794476 +/- 6.977665764970504e-05\n",
      "7954\n"
     ]
    },
    {
     "data": {
      "application/vnd.jupyter.widget-view+json": {
       "model_id": "43d929d5fc8d485380f63d3928f0be24",
       "version_major": 2,
       "version_minor": 0
      },
      "text/plain": [
       "Canvas(toolbar=Toolbar(toolitems=[('Home', 'Reset original view', 'home', 'home'), ('Back', 'Back to previous …"
      ]
     },
     "metadata": {},
     "output_type": "display_data"
    },
    {
     "name": "stdout",
     "output_type": "stream",
     "text": [
      "K= 0.016536569499209786 +/- 2.2482911624194664e-05\n"
     ]
    }
   ],
   "source": [
    "#reading in the data\n",
    "\n",
    "a1elapsedlist,a1list, a2elapsedlist,a2list = readthefile(\"data/2024_07_25_11_01_13_491761-2-anemometer-microseconds-spindown-ab-16.00.asc\" )\n",
    "\n",
    "#printing full and sliced\n",
    "\n",
    "a1elapsed_s, a1_s, a2elapsed_s, a2_s = plotfullandsliced(a1elapsedlist,a1list,a2elapsedlist,a2list, 16.0)\n",
    "\n",
    "#implementing the filter\n",
    "\n",
    "a1elapsed_fs, a1_fs, a2elapsed_fs, a2_fs = plotfilter(a1elapsed_s, a1_s, a2elapsed_s, a2_s)\n",
    "\n",
    "#smoothing and fitting\n",
    "a2_lowess = lowess_smoothing(a2_fs, frac=0.2)\n",
    "\n",
    "K = fittingandsmoothing(a2_fs, a2elapsed_fs, a2_lowess, 16.9, 16.0)\n",
    "print('K=', K[0], '+/-', K[1])\n",
    "\n",
    "#inverted fit\n",
    "\n",
    "K = inversefitting(a2_fs, a2elapsed_fs, a2_lowess, 16.9, 16.0)\n",
    "print('K=', K[0], '+/-', K[1])\n",
    "\n",
    "#zoomed in inverted fit\n",
    "\n",
    "ind = find_position(a2elapsed_fs, 60000) \n",
    "print(ind)\n",
    "\n",
    "K = inversefitting(a2_fs[:ind:], a2elapsed_fs[:ind:], a2_lowess[:ind:], 60000/3600, 16.0)\n",
    "print('K=', K[0], '+/-', K[1])\n",
    "\n",
    "#closer inverted fit\n",
    "\n",
    "ind = find_position(a2elapsed_fs, 59000) \n",
    "print(ind)\n",
    "\n",
    "K = inversefitting(a2_fs[:ind:], a2elapsed_fs[:ind:], a2_lowess[:ind:], 59000/3600, 16.0)\n",
    "print('K=', K[0], '+/-', K[1])\n"
   ]
  },
  {
   "cell_type": "markdown",
   "id": "ce9a3ef9-32d1-4a96-af2c-715dadf39d26",
   "metadata": {},
   "source": [
    "<a class=\"anchor\" id=\"6\"></a>\n",
    "\n",
    "<div style=\"display: flex; justify-content: space-between; align-items: center;\">\n",
    "    \n",
    "    <h1 style=\"margin: 0; text-align: center; width: 100%\">\n",
    "        <font color='green'>Evaluation: Dataset 4</font>\n",
    "    </h1>\n",
    "    <a href=\"#toc\" style=\"text-decoration: none; font-size: 20px; margin-left: 10px;\">&#x21A9;</a>\n",
    "    \n",
    "</div>"
   ]
  },
  {
   "cell_type": "code",
   "execution_count": 15,
   "id": "e76a2673-f609-48d7-8dc9-5b5be9db2c42",
   "metadata": {},
   "outputs": [
    {
     "name": "stdout",
     "output_type": "stream",
     "text": [
      "data/2024_08_07_10_55_58_657286-2-anemometer-microseconds.asc\n"
     ]
    },
    {
     "data": {
      "application/vnd.jupyter.widget-view+json": {
       "model_id": "d11b4f3a534d4c80901b3d19456b88e7",
       "version_major": 2,
       "version_minor": 0
      },
      "text/plain": [
       "Canvas(toolbar=Toolbar(toolitems=[('Home', 'Reset original view', 'home', 'home'), ('Back', 'Back to previous …"
      ]
     },
     "metadata": {},
     "output_type": "display_data"
    },
    {
     "name": "stdout",
     "output_type": "stream",
     "text": [
      "39039\n",
      "50018\n"
     ]
    },
    {
     "data": {
      "application/vnd.jupyter.widget-view+json": {
       "model_id": "de92cf08d09f46fd9cdb3c0db1b42189",
       "version_major": 2,
       "version_minor": 0
      },
      "text/plain": [
       "Canvas(toolbar=Toolbar(toolitems=[('Home', 'Reset original view', 'home', 'home'), ('Back', 'Back to previous …"
      ]
     },
     "metadata": {},
     "output_type": "display_data"
    },
    {
     "data": {
      "application/vnd.jupyter.widget-view+json": {
       "model_id": "90a4cd99bb0544f189591719e2d1b804",
       "version_major": 2,
       "version_minor": 0
      },
      "text/plain": [
       "Canvas(toolbar=Toolbar(toolitems=[('Home', 'Reset original view', 'home', 'home'), ('Back', 'Back to previous …"
      ]
     },
     "metadata": {},
     "output_type": "display_data"
    },
    {
     "data": {
      "application/vnd.jupyter.widget-view+json": {
       "model_id": "98ac16d2884b4bd48670489c74e42fed",
       "version_major": 2,
       "version_minor": 0
      },
      "text/plain": [
       "Canvas(toolbar=Toolbar(toolitems=[('Home', 'Reset original view', 'home', 'home'), ('Back', 'Back to previous …"
      ]
     },
     "metadata": {},
     "output_type": "display_data"
    },
    {
     "name": "stdout",
     "output_type": "stream",
     "text": [
      "K= 0.018782897457736675 +/- 4.8652122261550094e-05\n"
     ]
    },
    {
     "data": {
      "application/vnd.jupyter.widget-view+json": {
       "model_id": "90e58d674b6548079b483ad2e5e9e3bb",
       "version_major": 2,
       "version_minor": 0
      },
      "text/plain": [
       "Canvas(toolbar=Toolbar(toolitems=[('Home', 'Reset original view', 'home', 'home'), ('Back', 'Back to previous …"
      ]
     },
     "metadata": {},
     "output_type": "display_data"
    },
    {
     "name": "stdout",
     "output_type": "stream",
     "text": [
      "K= 0.03292335483884607 +/- 0.00015714186984241258\n",
      "4962\n"
     ]
    },
    {
     "data": {
      "application/vnd.jupyter.widget-view+json": {
       "model_id": "581c7af5b8d0492b81861cadf0c305ad",
       "version_major": 2,
       "version_minor": 0
      },
      "text/plain": [
       "Canvas(toolbar=Toolbar(toolitems=[('Home', 'Reset original view', 'home', 'home'), ('Back', 'Back to previous …"
      ]
     },
     "metadata": {},
     "output_type": "display_data"
    },
    {
     "name": "stdout",
     "output_type": "stream",
     "text": [
      "K= 0.019189403900540226 +/- 2.025848265946597e-05\n",
      "3752\n"
     ]
    },
    {
     "data": {
      "application/vnd.jupyter.widget-view+json": {
       "model_id": "716e035859ce4c00b814b8b108b7ff5c",
       "version_major": 2,
       "version_minor": 0
      },
      "text/plain": [
       "Canvas(toolbar=Toolbar(toolitems=[('Home', 'Reset original view', 'home', 'home'), ('Back', 'Back to previous …"
      ]
     },
     "metadata": {},
     "output_type": "display_data"
    },
    {
     "name": "stdout",
     "output_type": "stream",
     "text": [
      "K= 0.01771508357773117 +/- 1.9980514590486994e-05\n"
     ]
    }
   ],
   "source": [
    "#reading in the data\n",
    "\n",
    "a1elapsedlist,a1list, a2elapsedlist,a2list = readthefile(\"data/2024_08_07_10_55_58_657286-2-anemometer-microseconds.asc\")\n",
    "\n",
    "#printing full and sliced\n",
    "\n",
    "a1elapsed_s, a1_s, a2elapsed_s, a2_s = plotfullandsliced(a1elapsedlist,a1list,a2elapsedlist,a2list, 16.3)\n",
    "\n",
    "#implementing the filter\n",
    "\n",
    "a1elapsed_fs, a1_fs, a2elapsed_fs, a2_fs = plotfilter(a1elapsed_s, a1_s, a2elapsed_s, a2_s)\n",
    "\n",
    "#smoothing and fitting\n",
    "a2_lowess = lowess_smoothing(a2_fs, frac=0.2)\n",
    "\n",
    "K = fittingandsmoothing(a2_fs, a2elapsed_fs, a2_lowess, 17.0, 16.3)\n",
    "print('K=', K[0], '+/-', K[1])\n",
    "\n",
    "#inverted fit\n",
    "\n",
    "K = inversefitting(a2_fs, a2elapsed_fs, a2_lowess, 17.0, 16.3)\n",
    "print('K=', K[0], '+/-', K[1])\n",
    "\n",
    "#zoomed in inverted fit\n",
    "\n",
    "ind = find_position(a2elapsed_fs, 60000) \n",
    "print(ind)\n",
    "\n",
    "K = inversefitting(a2_fs[:ind:], a2elapsed_fs[:ind:], a2_lowess[:ind:], 60000/3600, 16.3)\n",
    "print('K=', K[0], '+/-', K[1])\n",
    "\n",
    "#closer zoomed in #inverted fit\n",
    "\n",
    "ind = find_position(a2elapsed_fs, 59500) \n",
    "print(ind)\n",
    "\n",
    "K = inversefitting(a2_fs[:ind:], a2elapsed_fs[:ind:], a2_lowess[:ind:], 59500/3600, 16.3)\n",
    "print('K=', K[0], '+/-', K[1])"
   ]
  },
  {
   "cell_type": "markdown",
   "id": "75f96ede-55e0-4a26-b13a-73afc151188e",
   "metadata": {},
   "source": [
    "<a class=\"anchor\" id=\"7\"></a>\n",
    "\n",
    "<div style=\"display: flex; justify-content: space-between; align-items: center;\">\n",
    "    \n",
    "    <h1 style=\"margin: 0; text-align: center; width: 100%\">\n",
    "        <font color='green'>Results for Decay Constants $K$</font>\n",
    "    </h1>\n",
    "    <a href=\"#toc\" style=\"text-decoration: none; font-size: 20px; margin-left: 10px;\">&#x21A9;</a>\n",
    "    \n",
    "</div>"
   ]
  },
  {
   "cell_type": "markdown",
   "id": "fd3fb75e-5a53-4489-adcd-6aa08b08557e",
   "metadata": {},
   "source": [
    "As a final result for each Dataset I am taking coeficients from the most zoomed in fits, to maximize the accuracy.\n",
    "\n",
    "The results are presented in the following table in __[1/m]__:\n",
    "\n",
    "|           | Dataset 1                | Dataset 2             | Dataset 3             | Dataset 4              |\n",
    "|-----------|--------------------------|-----------------------|-----------------------|------------------------|\n",
    "|$K$        | 0.017714232885995263     | 0.009797766410070019  | 0.016536569499209786  | 0.01771508357773117    |\n",
    "| $\\Delta K$| 2.3113446951216764e-05   | 0.00022762001988920643| 2.2482911624194664e-05| 1.9980514590486994e-05 |\n",
    "\n",
    "One of the firts 3 Datasets should have been taken with not soluable film. I didn't remeber which one, but I can confidently conclude that it is most likely the Dataset 2, as its $K$ is 2 times smaller in comparasment to the other data. The Dataset 4 inclueds data for soluable film. From the results shown abouve we can deduce, that there is no sugnificant (or even any at all) difference in Decay Constants $K$ for \"no film\" and \"soluable film\" data (compare Dataset 1 and 4).\n",
    "\n",
    "One of the goals of this work was to compare my results for $K's$ with the results, measured by M.Bopp in his Bachelor's theasis in 2011. Although we didn't use the same data (only the same instrument, Aeolotron) I am going to site his end results (Table 7.3, which inclueds his experimental and theoretical results) with respect to his data below.\n",
    "\n",
    "|                            | K [1/m]$\\cdot 10^{−4}$   | \n",
    "|----------------------------|--------------------------|\n",
    "|Messung MAVS                | $1. 60 \\pm 0. 13$        | \n",
    "| Messung Heizdraht Signal-T2| $2. 77 \\pm 0. 84$        |\n",
    "|Messung Heizdraht T2-T1     | $3. 14 \\pm 0. 66$        | \n",
    "|theor. Modell 2 a           | $1. 665$                 |\n",
    "|theor. Modell 2 b           | $1. 750$                 | \n",
    "\n",
    "From this we see that his results overall are 100 smaller than mine. Any precise explanation or error could not be found. The only reasonable explanation I considered was that in the original code (from Kerstin) the units for water velosity were marked as $\"maybe m/s\"$. It caused a lot of confusion, as I first considered it to be $cm/s$ to see if that helps my end values to match those of Maximilian, but then the water velocity turned out to be unreasonable and the comparasment with M.Bopp's results didn't actually improve (It is easy to see that $\\frac{1}{cm} = 100 \\frac{1}{m}$ so my result turned out to be $ \\times 10 000$ bigger than his, that is why I switched back to $\\frac{1}{m}$ in the end). I think if I considered the velocity to be in $\\frac{dm}{s}$ (which would help with the order problem) it wouldn't match the tipical water velocity in the chanel, as it is too quick. In the end I think it might have had something to do with the units, but I can't say what exactly. "
   ]
  },
  {
   "cell_type": "markdown",
   "id": "bd5a2a50-b746-4d3b-8eea-279c81415fda",
   "metadata": {},
   "source": [
    "<a class=\"anchor\" id=\"8\"></a>\n",
    "\n",
    "<div style=\"display: flex; justify-content: space-between; align-items: center;\">\n",
    "    \n",
    "    <h1 style=\"margin: 0; text-align: center; width: 100%\">\n",
    "        <font color='black'>Part 2. Friction velocity: qualitative calculation</font>\n",
    "    </h1>\n",
    "    <a href=\"#toc\" style=\"text-decoration: none; font-size: 20px; margin-left: 10px;\">&#x21A9;</a>\n",
    "    \n",
    "</div>"
   ]
  },
  {
   "cell_type": "markdown",
   "id": "841e30af-25a8-480f-be93-6ccc61fcf30a",
   "metadata": {},
   "source": [
    "<a class=\"anchor\" id=\"8.1\"></a>\n",
    "\n",
    "<div style=\"display: flex; justify-content: space-between; align-items: center;\">\n",
    "    \n",
    "    <h1 style=\"margin: 0; text-align: center; width: 100%\">\n",
    "        <font color='green'>Introduction</font>\n",
    "    </h1>\n",
    "    <a href=\"#toc\" style=\"text-decoration: none; font-size: 20px; margin-left: 10px;\">&#x21A9;</a>\n",
    "    \n",
    "</div>"
   ]
  },
  {
   "cell_type": "markdown",
   "id": "689aa407-d946-4924-b107-6bdaed4693d1",
   "metadata": {},
   "source": [
    "In this part of the Notebook we will cary out an exemplary evaluation of a dataset to find the friction velosity. It was decided to only evaluate one file, to not overcrowd the notebook, but the same principle will be aplicable to all of the datasets. __To be able to run the following code the very first \"import\" and \"functions\" cells as well as the cells from \"Part 1: Dataset 1\" should already be run. The following code uses the functions defined there.__"
   ]
  },
  {
   "cell_type": "markdown",
   "id": "a936feb4-0baf-462d-8733-d4350f2634b5",
   "metadata": {},
   "source": [
    "<a class=\"anchor\" id=\"8.2\"></a>\n",
    "\n",
    "<div style=\"display: flex; justify-content: space-between; align-items: center;\">\n",
    "    \n",
    "    <h1 style=\"margin: 0; text-align: center; width: 100%\">\n",
    "        <font color='green'>Theoretical Basis</font>\n",
    "    </h1>\n",
    "    <a href=\"#toc\" style=\"text-decoration: none; font-size: 20px; margin-left: 10px;\">&#x21A9;</a>\n",
    "    \n",
    "</div>"
   ]
  },
  {
   "cell_type": "markdown",
   "id": "7508aca9-2635-42d7-993d-a0c0aee6abec",
   "metadata": {},
   "source": [
    "After an activation of the wind and a certain run-in period, the system reaches a steady-state equilibrium. In this state, the momentum input caused by the wind balances out the momentum loss over the channel. The change in velocity $\\frac{\\partial u}{\\partial t}$ vanishes, and the following force equilibrium is established:\n",
    "\n",
    "\\begin{align}\n",
    "Aρ_wu∗_w^2 = ρ_w \\frac{1}{β^2} \\left[A + α_i^2A_i + α_a^2A_a + \\frac{1}{2} β^2c_wF \\right] \\cdot u^2 \n",
    "\\end{align}\n",
    "\n",
    "From this, a direct relationship between the water velocity $u$ and the wind-induced shear velocity $u∗_w$ can be derived:\n",
    "\n",
    "\\begin{align}\n",
    "u∗_w = \\sqrt{\\frac{[A + α_i^2A_i + α_a^2A_a + \\frac{1}{2} β^2c_wF]}{A \\cdot β^2}} \\cdot u = \\sqrt{\\frac{K \\cdot V_w}{A}} \\cdot u \n",
    "\\end{align}\n",
    "\n",
    "The surface area of the water in the Aeolotron is $ A = (17.927 \\pm 0.41) \\, \\text{m}^2 $, and the water volume is $ V_w = (17.927 \\pm 0.45) \\, \\text{m}^3 $.\n",
    "\n"
   ]
  },
  {
   "cell_type": "markdown",
   "id": "dfa5fd2a-5e0b-4bd5-bb3a-a12f19d34bad",
   "metadata": {},
   "source": [
    "<a class=\"anchor\" id=\"8.3\"></a>\n",
    "\n",
    "<div style=\"display: flex; justify-content: space-between; align-items: center;\">\n",
    "    \n",
    "    <h1 style=\"margin: 0; text-align: center; width: 100%\">\n",
    "        <font color='green'>Evaluation. Dateset 1</font>\n",
    "    </h1>\n",
    "    <a href=\"#toc\" style=\"text-decoration: none; font-size: 20px; margin-left: 10px;\">&#x21A9;</a>\n",
    "    \n",
    "</div>"
   ]
  },
  {
   "cell_type": "markdown",
   "id": "ecb60cc2-4524-496c-9f5b-5992859ee82e",
   "metadata": {},
   "source": [
    "The Windspeed log to this Dataset is shown below:"
   ]
  },
  {
   "cell_type": "code",
   "execution_count": 16,
   "id": "16149487-3cd2-49a4-85b9-d539598098e1",
   "metadata": {},
   "outputs": [
    {
     "name": "stdout",
     "output_type": "stream",
     "text": [
      "10:xx wind an @6.3, skimmen\n",
      "\n",
      "11:00 Lueftung aus\n",
      "\n",
      "hw=101.2cm\n",
      "\n",
      "11:50 Lueftung an wind@8.9\n",
      "\n",
      "12:05 Lueftung aus\n",
      "\n",
      "12:55 Lueftung an wind@12.6\n",
      "\n",
      "13:10 Lueftung aus\n",
      "\n",
      "13:55 Lueftung an, wind @17.8\n",
      "\n",
      "hw=100.3\n",
      "\n",
      "14:10 Lueftung aus\n",
      "\n",
      "14:55 Lueftung an, wind@25.2\n",
      "\n",
      "15:10 Lueftung aus\n",
      "\n",
      "15:50 spindown\n",
      "\n",
      "16:50 Lueftung an\n"
     ]
    }
   ],
   "source": [
    "with open(\"data/20240726-log.txt\",'r') as f:\n",
    "    \n",
    "    # Read and ignore header lines\n",
    "    header1 = f.readline()\n",
    "    header2 = f.readline()\n",
    "    header3 = f.readline()\n",
    "    header4 = f.readline()\n",
    "    \n",
    "    for line in f:\n",
    "        print(line)        "
   ]
  },
  {
   "cell_type": "markdown",
   "id": "5771add0-a455-44a6-9c5a-32343a141e54",
   "metadata": {},
   "source": [
    "We are going to use 3 times: \n",
    "1) 11:05-11:50 (wind speed = 8.9 Hz) (in seconds: 39900 - 42600 )\n",
    "2) 12:10 - 12:55 (wind speed = 12.6 Hz) (in seconds: 43800 - 46500)\n",
    "3) 13:15 - 13:55 (wind speed = 17.8 Hz) (in seconds: 47700 - 50100)\n",
    "\n",
    "with skipping of the firts 5 mins of data to account for reaching the equilibrium state"
   ]
  },
  {
   "cell_type": "code",
   "execution_count": 17,
   "id": "45c9e02d-2b83-42f2-9842-83418d5399f7",
   "metadata": {},
   "outputs": [
    {
     "name": "stdout",
     "output_type": "stream",
     "text": [
      "data/2024_07_26_10_38_10_194617-2-anemometer-microseconds-spindown-ab-15.50.asc\n"
     ]
    }
   ],
   "source": [
    "#read in the file\n",
    "a1elapsedlist,a1list, a2elapsedlist, a2list = readthefile(\"data/2024_07_26_10_38_10_194617-2-anemometer-microseconds-spindown-ab-15.50.asc\")"
   ]
  },
  {
   "cell_type": "code",
   "execution_count": 18,
   "id": "8b937101-8856-4f5d-b003-d3a99472629e",
   "metadata": {},
   "outputs": [
    {
     "data": {
      "application/vnd.jupyter.widget-view+json": {
       "model_id": "009df7d366744571884ebc3ed09cf9dd",
       "version_major": 2,
       "version_minor": 0
      },
      "text/plain": [
       "Canvas(toolbar=Toolbar(toolitems=[('Home', 'Reset original view', 'home', 'home'), ('Back', 'Back to previous …"
      ]
     },
     "metadata": {},
     "output_type": "display_data"
    }
   ],
   "source": [
    "#plot the full data\n",
    "\n",
    "fig, ax = plt.subplots(figsize = (9,6))\n",
    "#plt.ylim([-0.01,0.2])\n",
    "#plt.xlim([16.0,16.9])\n",
    "\n",
    "plt.xlabel('time of day [s]')\n",
    "plt.ylabel('water velocity [m/s]')\n",
    "plt.title(\"Full Data\")\n",
    "\n",
    "\n",
    "ax.plot(a1elapsedlist,a1list,label=\"water anemometer a1\")\n",
    "ax.plot(a2elapsedlist,a2list,label=\"water anemometer a2\")\n",
    "\n",
    "plt.grid(visible=True, which='major', color='grey', linestyle='-')\n",
    "ax.legend()\n",
    "\n",
    "\n",
    "plt.show()"
   ]
  },
  {
   "cell_type": "code",
   "execution_count": 19,
   "id": "ef531d1d-ff82-4dc4-8c35-2df972081f15",
   "metadata": {},
   "outputs": [
    {
     "name": "stdout",
     "output_type": "stream",
     "text": [
      "115\n",
      "1994\n"
     ]
    },
    {
     "data": {
      "application/vnd.jupyter.widget-view+json": {
       "model_id": "e9172236899842e18241ace17b85edfe",
       "version_major": 2,
       "version_minor": 0
      },
      "text/plain": [
       "Canvas(toolbar=Toolbar(toolitems=[('Home', 'Reset original view', 'home', 'home'), ('Back', 'Back to previous …"
      ]
     },
     "metadata": {},
     "output_type": "display_data"
    },
    {
     "name": "stdout",
     "output_type": "stream",
     "text": [
      "3725\n",
      "9046\n"
     ]
    },
    {
     "data": {
      "application/vnd.jupyter.widget-view+json": {
       "model_id": "0320f8b819644827a2e9c0d6416673e5",
       "version_major": 2,
       "version_minor": 0
      },
      "text/plain": [
       "Canvas(toolbar=Toolbar(toolitems=[('Home', 'Reset original view', 'home', 'home'), ('Back', 'Back to previous …"
      ]
     },
     "metadata": {},
     "output_type": "display_data"
    },
    {
     "name": "stdout",
     "output_type": "stream",
     "text": [
      "12778\n",
      "21498\n"
     ]
    },
    {
     "data": {
      "application/vnd.jupyter.widget-view+json": {
       "model_id": "4457e2c21ac94430952fc0d46ccbb89f",
       "version_major": 2,
       "version_minor": 0
      },
      "text/plain": [
       "Canvas(toolbar=Toolbar(toolitems=[('Home', 'Reset original view', 'home', 'home'), ('Back', 'Back to previous …"
      ]
     },
     "metadata": {},
     "output_type": "display_data"
    }
   ],
   "source": [
    "#slice to relevant times\n",
    "\n",
    "def sli(a2elapsedlist,a2list, start, finish): #start n finish in seconds\n",
    "    ind1 = find_position(a2elapsedlist, start)\n",
    "    print(ind1)\n",
    "    ind2 = find_position(a2elapsedlist, finish)\n",
    "    print(ind2)\n",
    "    a2elapsed_s = a1elapsedlist[ind1:ind2:]\n",
    "    a2_s = a2list[ind1:ind2:]\n",
    "\n",
    "    fig, ax = plt.subplots(figsize = (9,6))\n",
    "\n",
    "    plt.xlabel('time of day [s]')\n",
    "    plt.ylabel('water velocity [m/s]')\n",
    "    plt.title(\"Sliced Data\")\n",
    "\n",
    "    ax.plot(a2elapsed_s,a2_s,label=\"water anemometer a2, 10 mins measurement, start: \" + str(start//3600) + \":\"+ str((start%3600)//60))\n",
    "\n",
    "    plt.grid(visible=True, which='major', color='grey', linestyle='-')\n",
    "    ax.legend(bbox_to_anchor=(0.65, 0.995), loc=1, borderaxespad=0.,fancybox=True, framealpha=1.0,fontsize=10,borderpad=0.2,labelspacing=0.35,handletextpad=0.1)\n",
    "\n",
    "\n",
    "\n",
    "    plt.show()\n",
    "    \n",
    "    return a2elapsed_s, a2_s\n",
    "    \n",
    "x1,y1  = sli(a2elapsedlist,a2list, 39900, 42600) #at 11:05\n",
    "x2,y2  = sli(a2elapsedlist,a2list, 43800, 46500) #at 12:10  \n",
    "x3,y3  = sli(a2elapsedlist,a2list, 47700, 50100) #at 13:15"
   ]
  },
  {
   "cell_type": "code",
   "execution_count": 20,
   "id": "60771158-3aa8-41b8-9ebb-abf6577e3c35",
   "metadata": {},
   "outputs": [
    {
     "data": {
      "application/vnd.jupyter.widget-view+json": {
       "model_id": "73751be21e614e50a4296e15444dadeb",
       "version_major": 2,
       "version_minor": 0
      },
      "text/plain": [
       "Canvas(toolbar=Toolbar(toolitems=[('Home', 'Reset original view', 'home', 'home'), ('Back', 'Back to previous …"
      ]
     },
     "metadata": {},
     "output_type": "display_data"
    },
    {
     "data": {
      "application/vnd.jupyter.widget-view+json": {
       "model_id": "c0589175069f48dfaacee2f2d4c35268",
       "version_major": 2,
       "version_minor": 0
      },
      "text/plain": [
       "Canvas(toolbar=Toolbar(toolitems=[('Home', 'Reset original view', 'home', 'home'), ('Back', 'Back to previous …"
      ]
     },
     "metadata": {},
     "output_type": "display_data"
    },
    {
     "data": {
      "application/vnd.jupyter.widget-view+json": {
       "model_id": "34dde1225f5447b2af9631522f9bbc23",
       "version_major": 2,
       "version_minor": 0
      },
      "text/plain": [
       "Canvas(toolbar=Toolbar(toolitems=[('Home', 'Reset original view', 'home', 'home'), ('Back', 'Back to previous …"
      ]
     },
     "metadata": {},
     "output_type": "display_data"
    }
   ],
   "source": [
    "#filter the noise out\n",
    "\n",
    "def filter1d(a2elapsed_s, a2_s, start, finish):\n",
    "\n",
    "    a2elapsed_fs = filter(a2elapsed_s, a2_s)[0]\n",
    "    a2_fs = filter(a2elapsed_s, a2_s)[1]\n",
    "\n",
    "    fig, ax = plt.subplots(figsize = (9,6))\n",
    "\n",
    "    plt.xlabel('time of day [s]')\n",
    "    plt.ylabel('water velocity [m/s]')\n",
    "    plt.title(\"Sliced Filtered Data\")\n",
    "\n",
    "    ax.plot(a2elapsed_fs,a2_fs,label=\"water anemometer a2, 10 mins measurement, start: \" + str(start//3600) + \":\"+ str((start%3600)//60))\n",
    "\n",
    "    plt.grid(visible=True, which='major', color='grey', linestyle='-')\n",
    "    ax.legend()\n",
    "\n",
    "\n",
    "    plt.show()\n",
    "    \n",
    "    return a2elapsed_fs, a2_fs\n",
    "\n",
    "x1,y1  = filter1d(x1,y1, 39900, 42600) #at 11:05\n",
    "x2,y2  = filter1d(x2,y2, 43800, 46500) #at 12:10  \n",
    "x3,y3  = filter1d(x3,y3, 47700, 50100) #at 13:15"
   ]
  },
  {
   "cell_type": "markdown",
   "id": "c8fc8c88-a121-425f-a959-fb7a14bf9c67",
   "metadata": {},
   "source": [
    "Now we are going to calculate the friction velocities for each of the time periouds according to:\n",
    "\n",
    "\\begin{align}\n",
    "u∗_w = \\sqrt{\\frac{[A + α_i^2A_i + α_a^2A_a + \\frac{1}{2} β^2c_wF]}{A \\cdot β^2}} \\cdot u = \\sqrt{\\frac{K \\cdot V_w}{A}} \\cdot u \n",
    "\\end{align}\n",
    "\n",
    "\\begin{align}\n",
    "\\Delta u∗_w =  \\sqrt{ \\Big(\\ \\Delta K \\frac{1}{2 \\sqrt{K} } \\sqrt{ \\frac{V_w}{A} } \\cdot u \\Big)\\ ^2 + \\Big(\\ \\Delta V_w \\frac{1}{2 \\sqrt{V_w} } \\sqrt{ \\frac{K}{A} } \\cdot u \\Big)\\ ^2 + \\Big(\\ \\Delta A \\frac{-1}{2 A^{\\frac{3}{2}} } \\sqrt{ K \\cdot V_w } \\cdot u \\Big)\\ ^2  } \n",
    "\\end{align}"
   ]
  },
  {
   "cell_type": "code",
   "execution_count": 21,
   "id": "a0bf0744-0d97-4e79-ad04-eee6be8f9ecd",
   "metadata": {},
   "outputs": [
    {
     "data": {
      "application/vnd.jupyter.widget-view+json": {
       "model_id": "e710deaf385b4c78a77470542b332877",
       "version_major": 2,
       "version_minor": 0
      },
      "text/plain": [
       "Canvas(toolbar=Toolbar(toolitems=[('Home', 'Reset original view', 'home', 'home'), ('Back', 'Back to previous …"
      ]
     },
     "metadata": {},
     "output_type": "display_data"
    }
   ],
   "source": [
    "A = 17.927 #m2\n",
    "V = 17.927 #m3\n",
    "dA = 0.41 #m2\n",
    "dV = 0.45 #m3\n",
    "\n",
    "def frictionvel(K, dK, u):\n",
    "    u = np.array(u)\n",
    "    U = np.sqrt(K*V/A)*u\n",
    "    dU2 = (dK*0.5*(K**(-0.5))*np.sqrt(V/A)*u )**2 + (dV*0.5*(V**(-0.5))*np.sqrt(K/A)*u )**2 + (dA*0.5*(A**(-1.5))*np.sqrt(K*V)*u)**2\n",
    "    dU = np.sqrt(dU2)\n",
    "    return (U, dU)\n",
    "\n",
    "K= 0.017714232885995263\n",
    "dK = 2.3113446951216764E-05\n",
    "\n",
    "fig, ax = plt.subplots(figsize = (9,6))\n",
    "\n",
    "plt.xlabel('time of day [s]')\n",
    "plt.ylabel('friction velocity [m/s]')\n",
    "plt.title(\"Friction Velocity\")\n",
    "\n",
    "ax.errorbar(x1, frictionvel(K, dK, y1)[0], yerr= frictionvel(K, dK, y1)[1], fmt=\"none\", label=\"water anemometer a2, friction velosity, start: 11:05\")\n",
    "ax.errorbar(x2, frictionvel(K, dK, y2)[0], yerr= frictionvel(K, dK, y2)[1], fmt=\"none\", label=\"water anemometer a2, friction velosity, start: 12:10\")\n",
    "ax.errorbar(x3, frictionvel(K, dK, y3)[0], yerr= frictionvel(K, dK, y3)[1], fmt=\"none\", label=\"water anemometer a2, friction velosity, start: 13:15\")\n",
    "\n",
    "plt.grid(visible=True, which='major', color='grey', linestyle='-')\n",
    "ax.legend()\n",
    "\n",
    "plt.show()"
   ]
  },
  {
   "cell_type": "markdown",
   "id": "9fc00617-10bb-4e55-9df5-f785632d6c48",
   "metadata": {},
   "source": [
    "We assume that the frictin velocity is constant for a given wind velocity. In the following cell we take both the mean and the median, the difference between them is of the order $10^{-5}$ (or even smaller for U_wind = 17.8 Hz) and therefore negligible."
   ]
  },
  {
   "cell_type": "code",
   "execution_count": 22,
   "id": "9a9ed70e-1dc9-4971-8bd9-d9def3eb36c0",
   "metadata": {},
   "outputs": [
    {
     "name": "stdout",
     "output_type": "stream",
     "text": [
      "the friction velocity velues are all in [m/s]\n",
      "\n",
      "\n",
      "The median method\n",
      "The friction velocity for U_wind = 8.9 Hz: 1.5861e-03\n",
      "The friction velocity for U_wind = 12.6 Hz: 3.6917e-03\n",
      "The friction velocity for U_wind = 17.8 Hz: 6.7180e-03\n",
      "\n",
      "\n",
      "The mean method\n",
      "The friction velocity for U_wind = 8.9 Hz: 1.5187e-03\n",
      "The friction velocity for U_wind = 12.6 Hz: 3.6608e-03\n",
      "The friction velocity for U_wind = 17.8 Hz: 6.7129e-03\n"
     ]
    }
   ],
   "source": [
    "print(\"the friction velocity velues are all in [m/s]\")\n",
    "print(\"\\n\")\n",
    "\n",
    "c1 = np.median(frictionvel(K, dK, y1)[0])\n",
    "c2 = np.median(frictionvel(K, dK, y2)[0])\n",
    "c3 = np.median(frictionvel(K, dK, y3)[0])\n",
    "\n",
    "print('The median method')\n",
    "print('The friction velocity for U_wind = 8.9 Hz: {value:.4e}'.format(value=c1))\n",
    "print('The friction velocity for U_wind = 12.6 Hz: {value:.4e}'.format(value=c2))\n",
    "print('The friction velocity for U_wind = 17.8 Hz: {value:.4e}'.format(value=c3))\n",
    "print(\"\\n\")\n",
    "\n",
    "k1 = np.mean(frictionvel(K, dK, y1)[0])\n",
    "k2 = np.mean(frictionvel(K, dK, y2)[0])\n",
    "k3 = np.mean(frictionvel(K, dK, y3)[0])\n",
    "\n",
    "print('The mean method')\n",
    "print('The friction velocity for U_wind = 8.9 Hz: {value:.4e}'.format(value=k1))\n",
    "print('The friction velocity for U_wind = 12.6 Hz: {value:.4e}'.format(value=k2))\n",
    "print('The friction velocity for U_wind = 17.8 Hz: {value:.4e}'.format(value=k3))"
   ]
  },
  {
   "cell_type": "markdown",
   "id": "8e854ad1-5a50-444b-a452-3e1674f93adb",
   "metadata": {},
   "source": [
    "<a class=\"anchor\" id=\"8.4\"></a>\n",
    "\n",
    "<div style=\"display: flex; justify-content: space-between; align-items: center;\">\n",
    "    \n",
    "    <h1 style=\"margin: 0; text-align: center; width: 100%\">\n",
    "        <font color='green'>Results for the friction velocity $u*_w$</font>\n",
    "    </h1>\n",
    "    <a href=\"#toc\" style=\"text-decoration: none; font-size: 20px; margin-left: 10px;\">&#x21A9;</a>\n",
    "    \n",
    "</div>"
   ]
  },
  {
   "cell_type": "markdown",
   "id": "1a1925b9-1842-46b8-badc-562c21fb57fc",
   "metadata": {},
   "source": [
    "The reasonable comparasment with the results from Maximilian Bopp is not possible, because the friction velocities must be compared for the same wind velocity. In the table 7.5 M. Bopp presents his friction velocities([cm/s]) for different wind velocities ([m/s]). In the data I evaluated the wind velocity was given in frequancy units [Herz], which is also explained in the M. Bopp's theasis in the section 4.2 . I couldn't find anything that he used to convert it into $m/s$, so I couldn't convert my values to compare. According to Kerstin it is also not possible? Considering that our $K's$ are very different, we wouldn't get comparable results. My results are presented above."
   ]
  }
 ],
 "metadata": {
  "kernelspec": {
   "display_name": "Python 3",
   "language": "python",
   "name": "python3"
  },
  "language_info": {
   "codemirror_mode": {
    "name": "ipython",
    "version": 3
   },
   "file_extension": ".py",
   "mimetype": "text/x-python",
   "name": "python",
   "nbconvert_exporter": "python",
   "pygments_lexer": "ipython3",
   "version": "3.7.3"
  }
 },
 "nbformat": 4,
 "nbformat_minor": 5
}
